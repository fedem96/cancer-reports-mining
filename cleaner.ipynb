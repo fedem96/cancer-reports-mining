{
 "cells": [
  {
   "cell_type": "code",
   "execution_count": 1,
   "metadata": {},
   "outputs": [],
   "source": [
    "from timeit import default_timer as timer\n",
    "import pandas as pd\n",
    "\n",
    "from utils.utilities import read_csv"
   ]
  },
  {
   "cell_type": "code",
   "execution_count": 28,
   "metadata": {
    "tags": []
   },
   "outputs": [
    {
     "output_type": "stream",
     "name": "stdout",
     "text": "1: 4.736999471788295e-06\n2: 4.296429281000201\n3: 0.4338021710000248\ncsv read\nelapsed 4.798420494999846\n"
    }
   ],
   "source": [
    "csv1 = [os.path.join(\"data\", \"ISTOLOGIE_corr.csv\"),\n",
    "        \"ISO-8859-1\",\n",
    "        {\"id_neopl\": float},\n",
    "        {},\n",
    "        {},\n",
    "        {}]\n",
    "\n",
    "start = timer()\n",
    "df1 = read_csv(*csv1)\n",
    "end = timer()\n",
    "print(\"elapsed\", (end-start))\n"
   ]
  },
  {
   "cell_type": "code",
   "execution_count": 22,
   "metadata": {
    "tags": []
   },
   "outputs": [
    {
     "output_type": "stream",
     "name": "stdout",
     "text": "1: 5.3700005082646385e-06\n2: 0.5415096870001435\n3: 5.7655999626149423e-05\ncsv read\nelapsed 0.5417064779994689\n"
    }
   ],
   "source": [
    "csv2 = [os.path.join(\"data\", \"RTRT_NEOPLASI_corr.csv\"),\n",
    "        \"ISO-8859-1\",\n",
    "        {\"id_neopl\": float, \"anno_archivio\": str, \"data_incidenza\": str, \"lateralita\": str, \"grading\": int,\n",
    "        \"livello_certezza\": int, \"stadio\": int, \"data_intervento\": str, \"terapia\": int, \"dimensioni\": float, \"linfoadenec\": int,\n",
    "        \"numero_linfonodi_asportati\": str, \"sede_icdo3\": str, \"morfologia_icdo3\": str, \"numero_sentinella_asportati\": str, \"numero_sentinella_positivi\": str},\n",
    "        {},\n",
    "        {\"anno_archivio\": \"%y\", \"data_incidenza\": \"%Y-%m-%d\"},\n",
    "        {\"id_neopl\": \"skip\", \"livello_certezza\": 0, \"terapia\": 0}\n",
    "        ]\n",
    "\n",
    "start = timer()\n",
    "df1 = read_csv(*csv2)\n",
    "end = timer()\n",
    "print(\"elapsed\", (end-start))\n"
   ]
  },
  {
   "cell_type": "code",
   "execution_count": null,
   "metadata": {},
   "outputs": [],
   "source": []
  }
 ],
 "metadata": {
  "language_info": {
   "codemirror_mode": {
    "name": "ipython",
    "version": 3
   },
   "file_extension": ".py",
   "mimetype": "text/x-python",
   "name": "python",
   "nbconvert_exporter": "python",
   "pygments_lexer": "ipython3",
   "version": 3
  },
  "orig_nbformat": 2,
  "kernelspec": {
   "name": "python_defaultSpec_1594633907735",
   "display_name": "Python 3.8.3 64-bit ('th': conda)"
  }
 },
 "nbformat": 4,
 "nbformat_minor": 2
}